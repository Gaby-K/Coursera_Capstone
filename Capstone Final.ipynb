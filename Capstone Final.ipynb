{
 "cells": [
  {
   "cell_type": "code",
   "execution_count": 60,
   "metadata": {},
   "outputs": [],
   "source": [
    "import itertools\n",
    "import numpy as np\n",
    "import matplotlib.pyplot as plt\n",
    "from matplotlib.ticker import NullFormatter\n",
    "import pandas as pd\n",
    "import numpy as np\n",
    "import matplotlib.ticker as ticker\n",
    "from sklearn import preprocessing\n",
    "%matplotlib inline"
   ]
  },
  {
   "cell_type": "code",
   "execution_count": 61,
   "metadata": {},
   "outputs": [
    {
     "name": "stderr",
     "output_type": "stream",
     "text": [
      "/home/jupyterlab/conda/envs/python/lib/python3.6/site-packages/IPython/core/interactiveshell.py:3072: DtypeWarning: Columns (33) have mixed types.Specify dtype option on import or set low_memory=False.\n",
      "  interactivity=interactivity, compiler=compiler, result=result)\n"
     ]
    },
    {
     "data": {
      "text/html": [
       "<div>\n",
       "<style scoped>\n",
       "    .dataframe tbody tr th:only-of-type {\n",
       "        vertical-align: middle;\n",
       "    }\n",
       "\n",
       "    .dataframe tbody tr th {\n",
       "        vertical-align: top;\n",
       "    }\n",
       "\n",
       "    .dataframe thead th {\n",
       "        text-align: right;\n",
       "    }\n",
       "</style>\n",
       "<table border=\"1\" class=\"dataframe\">\n",
       "  <thead>\n",
       "    <tr style=\"text-align: right;\">\n",
       "      <th></th>\n",
       "      <th>SEVERITYCODE</th>\n",
       "      <th>X</th>\n",
       "      <th>Y</th>\n",
       "      <th>OBJECTID</th>\n",
       "      <th>INCKEY</th>\n",
       "      <th>COLDETKEY</th>\n",
       "      <th>REPORTNO</th>\n",
       "      <th>STATUS</th>\n",
       "      <th>ADDRTYPE</th>\n",
       "      <th>INTKEY</th>\n",
       "      <th>...</th>\n",
       "      <th>ROADCOND</th>\n",
       "      <th>LIGHTCOND</th>\n",
       "      <th>PEDROWNOTGRNT</th>\n",
       "      <th>SDOTCOLNUM</th>\n",
       "      <th>SPEEDING</th>\n",
       "      <th>ST_COLCODE</th>\n",
       "      <th>ST_COLDESC</th>\n",
       "      <th>SEGLANEKEY</th>\n",
       "      <th>CROSSWALKKEY</th>\n",
       "      <th>HITPARKEDCAR</th>\n",
       "    </tr>\n",
       "  </thead>\n",
       "  <tbody>\n",
       "    <tr>\n",
       "      <th>0</th>\n",
       "      <td>2</td>\n",
       "      <td>-122.323148</td>\n",
       "      <td>47.703140</td>\n",
       "      <td>1</td>\n",
       "      <td>1307</td>\n",
       "      <td>1307</td>\n",
       "      <td>3502005</td>\n",
       "      <td>Matched</td>\n",
       "      <td>Intersection</td>\n",
       "      <td>37475.0</td>\n",
       "      <td>...</td>\n",
       "      <td>Wet</td>\n",
       "      <td>Daylight</td>\n",
       "      <td>NaN</td>\n",
       "      <td>NaN</td>\n",
       "      <td>NaN</td>\n",
       "      <td>10</td>\n",
       "      <td>Entering at angle</td>\n",
       "      <td>0</td>\n",
       "      <td>0</td>\n",
       "      <td>N</td>\n",
       "    </tr>\n",
       "    <tr>\n",
       "      <th>1</th>\n",
       "      <td>1</td>\n",
       "      <td>-122.347294</td>\n",
       "      <td>47.647172</td>\n",
       "      <td>2</td>\n",
       "      <td>52200</td>\n",
       "      <td>52200</td>\n",
       "      <td>2607959</td>\n",
       "      <td>Matched</td>\n",
       "      <td>Block</td>\n",
       "      <td>NaN</td>\n",
       "      <td>...</td>\n",
       "      <td>Wet</td>\n",
       "      <td>Dark - Street Lights On</td>\n",
       "      <td>NaN</td>\n",
       "      <td>6354039.0</td>\n",
       "      <td>NaN</td>\n",
       "      <td>11</td>\n",
       "      <td>From same direction - both going straight - bo...</td>\n",
       "      <td>0</td>\n",
       "      <td>0</td>\n",
       "      <td>N</td>\n",
       "    </tr>\n",
       "    <tr>\n",
       "      <th>2</th>\n",
       "      <td>1</td>\n",
       "      <td>-122.334540</td>\n",
       "      <td>47.607871</td>\n",
       "      <td>3</td>\n",
       "      <td>26700</td>\n",
       "      <td>26700</td>\n",
       "      <td>1482393</td>\n",
       "      <td>Matched</td>\n",
       "      <td>Block</td>\n",
       "      <td>NaN</td>\n",
       "      <td>...</td>\n",
       "      <td>Dry</td>\n",
       "      <td>Daylight</td>\n",
       "      <td>NaN</td>\n",
       "      <td>4323031.0</td>\n",
       "      <td>NaN</td>\n",
       "      <td>32</td>\n",
       "      <td>One parked--one moving</td>\n",
       "      <td>0</td>\n",
       "      <td>0</td>\n",
       "      <td>N</td>\n",
       "    </tr>\n",
       "    <tr>\n",
       "      <th>3</th>\n",
       "      <td>1</td>\n",
       "      <td>-122.334803</td>\n",
       "      <td>47.604803</td>\n",
       "      <td>4</td>\n",
       "      <td>1144</td>\n",
       "      <td>1144</td>\n",
       "      <td>3503937</td>\n",
       "      <td>Matched</td>\n",
       "      <td>Block</td>\n",
       "      <td>NaN</td>\n",
       "      <td>...</td>\n",
       "      <td>Dry</td>\n",
       "      <td>Daylight</td>\n",
       "      <td>NaN</td>\n",
       "      <td>NaN</td>\n",
       "      <td>NaN</td>\n",
       "      <td>23</td>\n",
       "      <td>From same direction - all others</td>\n",
       "      <td>0</td>\n",
       "      <td>0</td>\n",
       "      <td>N</td>\n",
       "    </tr>\n",
       "    <tr>\n",
       "      <th>4</th>\n",
       "      <td>2</td>\n",
       "      <td>-122.306426</td>\n",
       "      <td>47.545739</td>\n",
       "      <td>5</td>\n",
       "      <td>17700</td>\n",
       "      <td>17700</td>\n",
       "      <td>1807429</td>\n",
       "      <td>Matched</td>\n",
       "      <td>Intersection</td>\n",
       "      <td>34387.0</td>\n",
       "      <td>...</td>\n",
       "      <td>Wet</td>\n",
       "      <td>Daylight</td>\n",
       "      <td>NaN</td>\n",
       "      <td>4028032.0</td>\n",
       "      <td>NaN</td>\n",
       "      <td>10</td>\n",
       "      <td>Entering at angle</td>\n",
       "      <td>0</td>\n",
       "      <td>0</td>\n",
       "      <td>N</td>\n",
       "    </tr>\n",
       "  </tbody>\n",
       "</table>\n",
       "<p>5 rows × 38 columns</p>\n",
       "</div>"
      ],
      "text/plain": [
       "   SEVERITYCODE           X          Y  OBJECTID  INCKEY  COLDETKEY REPORTNO  \\\n",
       "0             2 -122.323148  47.703140         1    1307       1307  3502005   \n",
       "1             1 -122.347294  47.647172         2   52200      52200  2607959   \n",
       "2             1 -122.334540  47.607871         3   26700      26700  1482393   \n",
       "3             1 -122.334803  47.604803         4    1144       1144  3503937   \n",
       "4             2 -122.306426  47.545739         5   17700      17700  1807429   \n",
       "\n",
       "    STATUS      ADDRTYPE   INTKEY  ... ROADCOND                LIGHTCOND  \\\n",
       "0  Matched  Intersection  37475.0  ...      Wet                 Daylight   \n",
       "1  Matched         Block      NaN  ...      Wet  Dark - Street Lights On   \n",
       "2  Matched         Block      NaN  ...      Dry                 Daylight   \n",
       "3  Matched         Block      NaN  ...      Dry                 Daylight   \n",
       "4  Matched  Intersection  34387.0  ...      Wet                 Daylight   \n",
       "\n",
       "  PEDROWNOTGRNT  SDOTCOLNUM SPEEDING ST_COLCODE  \\\n",
       "0           NaN         NaN      NaN         10   \n",
       "1           NaN   6354039.0      NaN         11   \n",
       "2           NaN   4323031.0      NaN         32   \n",
       "3           NaN         NaN      NaN         23   \n",
       "4           NaN   4028032.0      NaN         10   \n",
       "\n",
       "                                          ST_COLDESC  SEGLANEKEY  \\\n",
       "0                                  Entering at angle           0   \n",
       "1  From same direction - both going straight - bo...           0   \n",
       "2                             One parked--one moving           0   \n",
       "3                   From same direction - all others           0   \n",
       "4                                  Entering at angle           0   \n",
       "\n",
       "   CROSSWALKKEY  HITPARKEDCAR  \n",
       "0             0             N  \n",
       "1             0             N  \n",
       "2             0             N  \n",
       "3             0             N  \n",
       "4             0             N  \n",
       "\n",
       "[5 rows x 38 columns]"
      ]
     },
     "execution_count": 61,
     "metadata": {},
     "output_type": "execute_result"
    }
   ],
   "source": [
    "path='https://s3.us.cloud-object-storage.appdomain.cloud/cf-courses-data/CognitiveClass/DP0701EN/version-2/Data-Collisions.csv'\n",
    "data=pd.read_csv(path)\n",
    "data.head()"
   ]
  },
  {
   "cell_type": "code",
   "execution_count": 62,
   "metadata": {},
   "outputs": [
    {
     "data": {
      "text/plain": [
       "SEVERITYCODE  LIGHTCOND               \n",
       "1             Daylight                    0.586028\n",
       "              Dark - Street Lights On     0.257030\n",
       "              Unknown                     0.097187\n",
       "              Dusk                        0.029893\n",
       "              Dawn                        0.012673\n",
       "              Dark - No Street Lights     0.009086\n",
       "              Dark - Street Lights Off    0.006669\n",
       "              Other                       0.001382\n",
       "              Dark - Unknown Lighting     0.000053\n",
       "2             Daylight                    0.675050\n",
       "              Dark - Street Lights On     0.253512\n",
       "              Dusk                        0.034047\n",
       "              Dawn                        0.014431\n",
       "              Unknown                     0.010596\n",
       "              Dark - No Street Lights     0.005850\n",
       "              Dark - Street Lights Off    0.005534\n",
       "              Other                       0.000911\n",
       "              Dark - Unknown Lighting     0.000070\n",
       "Name: LIGHTCOND, dtype: float64"
      ]
     },
     "execution_count": 62,
     "metadata": {},
     "output_type": "execute_result"
    }
   ],
   "source": [
    "#Value Checking\n",
    "data.groupby(['SEVERITYCODE'])['STATUS'].value_counts(normalize=True)\n",
    "data.groupby(['SEVERITYCODE'])['ADDRTYPE'].value_counts(normalize=True) #Block & Intersection happen incidents a lot more than Alley \n",
    "data.groupby(['SEVERITYCODE'])['SDOT_COLDESC'].value_counts(normalize=True)\n",
    "data.groupby(['SEVERITYCODE'])['INATTENTIONIND'].value_counts(normalize=True)#The result shows that 100% of collision were incurred by inattention\n",
    "data.groupby(['SEVERITYCODE'])['UNDERINFL'].value_counts(normalize=True)\n",
    "data.groupby(['SEVERITYCODE'])['WEATHER'].value_counts(normalize=True)\n",
    "data.groupby(['SEVERITYCODE'])['ROADCOND'].value_counts(normalize=True)\n",
    "data.groupby(['SEVERITYCODE'])['LIGHTCOND'].value_counts(normalize=True)\n",
    "data.groupby(['SEVERITYCODE'])['PEDROWNOTGRNT'].value_counts(normalize=True) #It shows pedestrians have the right of way in 100% incidents\n",
    "data.groupby(['SEVERITYCODE'])['SPEEDING'].value_counts(normalize=True) #It shows 100% incidents relate to speed.\n",
    "data.groupby(['SEVERITYCODE'])['ST_COLCODE'].value_counts(normalize=True)\n",
    "data.groupby(['SEVERITYCODE'])['ST_COLDESC'].value_counts(normalize=True)\n",
    "data.groupby(['SEVERITYCODE'])['HITPARKEDCAR'].value_counts(normalize=True) #Over 95% of inccidents did not hit the parked cars.\n",
    "data.groupby(['SEVERITYCODE'])['REPORTNO'].value_counts(normalize=True)\n",
    "data.groupby(['SEVERITYCODE'])['LOCATION'].value_counts(normalize=True)\n",
    "data.groupby(['SEVERITYCODE'])['SEVERITYDESC'].value_counts(normalize=True)\n",
    "data.groupby(['SEVERITYCODE'])['COLLISIONTYPE'].value_counts(normalize=True)\n",
    "data.groupby(['SEVERITYCODE'])['JUNCTIONTYPE'].value_counts(normalize=True) #It looks like junction type will be one of the factors\n",
    "data.groupby(['SEVERITYCODE'])['SDOT_COLDESC'].value_counts(normalize=True)\n",
    "data.groupby(['SEVERITYCODE'])['ROADCOND'].value_counts(normalize=True)\n",
    "data.groupby(['SEVERITYCODE'])['LIGHTCOND'].value_counts(normalize=True)"
   ]
  },
  {
   "cell_type": "code",
   "execution_count": 63,
   "metadata": {},
   "outputs": [
    {
     "data": {
      "text/html": [
       "<div>\n",
       "<style scoped>\n",
       "    .dataframe tbody tr th:only-of-type {\n",
       "        vertical-align: middle;\n",
       "    }\n",
       "\n",
       "    .dataframe tbody tr th {\n",
       "        vertical-align: top;\n",
       "    }\n",
       "\n",
       "    .dataframe thead th {\n",
       "        text-align: right;\n",
       "    }\n",
       "</style>\n",
       "<table border=\"1\" class=\"dataframe\">\n",
       "  <thead>\n",
       "    <tr style=\"text-align: right;\">\n",
       "      <th></th>\n",
       "      <th>SEVERITYCODE</th>\n",
       "      <th>ADDRTYPE</th>\n",
       "      <th>SEVERITYDESC</th>\n",
       "      <th>COLLISIONTYPE</th>\n",
       "      <th>PERSONCOUNT</th>\n",
       "      <th>PEDCOUNT</th>\n",
       "      <th>PEDCYLCOUNT</th>\n",
       "      <th>SDOT_COLCODE</th>\n",
       "      <th>WEATHER</th>\n",
       "      <th>ROADCOND</th>\n",
       "      <th>ST_COLCODE</th>\n",
       "      <th>SEGLANEKEY</th>\n",
       "      <th>CROSSWALKKEY</th>\n",
       "      <th>HITPARKEDCAR</th>\n",
       "    </tr>\n",
       "  </thead>\n",
       "  <tbody>\n",
       "    <tr>\n",
       "      <th>0</th>\n",
       "      <td>2</td>\n",
       "      <td>2.0</td>\n",
       "      <td>2</td>\n",
       "      <td>2.0</td>\n",
       "      <td>2</td>\n",
       "      <td>0</td>\n",
       "      <td>0</td>\n",
       "      <td>10.0</td>\n",
       "      <td>2.0</td>\n",
       "      <td>2.0</td>\n",
       "      <td>10.0</td>\n",
       "      <td>0</td>\n",
       "      <td>0</td>\n",
       "      <td>0</td>\n",
       "    </tr>\n",
       "    <tr>\n",
       "      <th>1</th>\n",
       "      <td>1</td>\n",
       "      <td>1.0</td>\n",
       "      <td>1</td>\n",
       "      <td>5.0</td>\n",
       "      <td>2</td>\n",
       "      <td>0</td>\n",
       "      <td>0</td>\n",
       "      <td>11.0</td>\n",
       "      <td>2.0</td>\n",
       "      <td>2.0</td>\n",
       "      <td>11.0</td>\n",
       "      <td>0</td>\n",
       "      <td>0</td>\n",
       "      <td>0</td>\n",
       "    </tr>\n",
       "    <tr>\n",
       "      <th>2</th>\n",
       "      <td>1</td>\n",
       "      <td>1.0</td>\n",
       "      <td>1</td>\n",
       "      <td>1.0</td>\n",
       "      <td>4</td>\n",
       "      <td>0</td>\n",
       "      <td>0</td>\n",
       "      <td>32.0</td>\n",
       "      <td>2.0</td>\n",
       "      <td>1.0</td>\n",
       "      <td>32.0</td>\n",
       "      <td>0</td>\n",
       "      <td>0</td>\n",
       "      <td>0</td>\n",
       "    </tr>\n",
       "    <tr>\n",
       "      <th>3</th>\n",
       "      <td>1</td>\n",
       "      <td>1.0</td>\n",
       "      <td>1</td>\n",
       "      <td>4.0</td>\n",
       "      <td>3</td>\n",
       "      <td>0</td>\n",
       "      <td>0</td>\n",
       "      <td>23.0</td>\n",
       "      <td>1.0</td>\n",
       "      <td>1.0</td>\n",
       "      <td>23.0</td>\n",
       "      <td>0</td>\n",
       "      <td>0</td>\n",
       "      <td>0</td>\n",
       "    </tr>\n",
       "    <tr>\n",
       "      <th>4</th>\n",
       "      <td>2</td>\n",
       "      <td>2.0</td>\n",
       "      <td>2</td>\n",
       "      <td>2.0</td>\n",
       "      <td>2</td>\n",
       "      <td>0</td>\n",
       "      <td>0</td>\n",
       "      <td>10.0</td>\n",
       "      <td>2.0</td>\n",
       "      <td>2.0</td>\n",
       "      <td>10.0</td>\n",
       "      <td>0</td>\n",
       "      <td>0</td>\n",
       "      <td>0</td>\n",
       "    </tr>\n",
       "  </tbody>\n",
       "</table>\n",
       "</div>"
      ],
      "text/plain": [
       "   SEVERITYCODE  ADDRTYPE  SEVERITYDESC  COLLISIONTYPE  PERSONCOUNT  PEDCOUNT  \\\n",
       "0             2       2.0             2            2.0            2         0   \n",
       "1             1       1.0             1            5.0            2         0   \n",
       "2             1       1.0             1            1.0            4         0   \n",
       "3             1       1.0             1            4.0            3         0   \n",
       "4             2       2.0             2            2.0            2         0   \n",
       "\n",
       "   PEDCYLCOUNT  SDOT_COLCODE  WEATHER  ROADCOND  ST_COLCODE  SEGLANEKEY  \\\n",
       "0            0          10.0      2.0       2.0        10.0           0   \n",
       "1            0          11.0      2.0       2.0        11.0           0   \n",
       "2            0          32.0      2.0       1.0        32.0           0   \n",
       "3            0          23.0      1.0       1.0        23.0           0   \n",
       "4            0          10.0      2.0       2.0        10.0           0   \n",
       "\n",
       "   CROSSWALKKEY  HITPARKEDCAR  \n",
       "0             0             0  \n",
       "1             0             0  \n",
       "2             0             0  \n",
       "3             0             0  \n",
       "4             0             0  "
      ]
     },
     "execution_count": 63,
     "metadata": {},
     "output_type": "execute_result"
    }
   ],
   "source": [
    "#Pre-processing\n",
    "\n",
    "#SEVERITYCODE.1 is repeated so drop the column\n",
    "data.drop(\"SEVERITYCODE.1\", axis=1, inplace=True)\n",
    "\n",
    "#Convert Categorical features to numerical value\n",
    "\n",
    "data['STATUS'].replace(to_replace=['Matched','Unmatched'], value=[1,0],inplace=True) #almost 100% matched\n",
    "data['ADDRTYPE'].replace(to_replace=['Block','Intersection', 'Alley'], value=[1, 2, 3],inplace=True)\n",
    "\n",
    "#Weather clear condition is nearly 60% for both severity codes. The options also include unknown and other which cannot be analyzed\n",
    "#Therefore, I normalize the data to good weather (clear - 1), nothing to do with weather (unknown & other - 0), bad weather (the rest -2)\n",
    "data['WEATHER'].replace(to_replace=['Clear', 'Raining', 'Overcast', 'Unknown', 'Fog/Smog/Smoke', 'Snowing', 'Other', 'Sleet/Hail/Freezing Rain', 'Blowing Sand/Dirt', 'Severe Crosswind', 'Partly Cloudy'], value=[1, 2, 2, 0, 2, 2, 0, 2, 2, 2, 2],inplace=True)\n",
    "data['HITPARKEDCAR'].replace(to_replace=['N', 'Y'], value=[0, 1], inplace=True)\n",
    "\n",
    "#drop X and Y column, for not specifying the meaning\n",
    "data.drop('X', axis=1, inplace=True)\n",
    "data.drop('Y', axis=1, inplace=True)\n",
    "\n",
    "#drop columns that have over half NaN values\n",
    "data.drop(['EXCEPTRSNCODE', 'EXCEPTRSNDESC', 'INTKEY', 'INATTENTIONIND', 'PEDROWNOTGRNT', 'SPEEDING'], axis=1, inplace=True)\n",
    "\n",
    "#report no. has nothing to do with severity so drop\n",
    "data.drop(['REPORTNO'], axis=1, inplace=True)\n",
    "\n",
    "data['SEVERITYDESC'].replace(to_replace=['Property Damage Only Collision', 'Injury Collision'], value=[1, 2], inplace=True)\n",
    "data['COLLISIONTYPE'].replace(to_replace=['Parked Car', 'Angles', 'Rear Ended', 'Other', 'Sideswipe', 'Left Turn', 'Right Turn', 'Head On', 'Pedestrian', 'Cycles'], value=[1, 2, 3, 4, 5, 6, 7, 8, 9, 10], inplace=True) \n",
    "\n",
    "#OBJECTID is only for each case so drop\n",
    "data.drop(['OBJECTID'], axis=1, inplace=True)\n",
    "\n",
    "# INCDATE,INCDTTM is only for each case so drop\n",
    "data.drop(['INCDATE', 'INCDTTM'], axis=1, inplace=True)\n",
    "\n",
    "data['JUNCTIONTYPE'].replace(to_replace=['At Intersection (intersection related)', 'Mid-Block (not related to intersection)','Mid-Block (but intersection related)','Driveway Junction', 'At Intersection (but not related to intersection)', 'Ramp Junction', 'Unknown'], value=[1, 2, 3, 4, 5, 6, 7], inplace=True)\n",
    "\n",
    "#Location has very little to do with severity so drop\n",
    "data.drop(['LOCATION'], axis=1, inplace=True)\n",
    "\n",
    "#SDOTCOLNUM has too many NAN to analyze so drop\n",
    "data.drop(['SDOTCOLNUM'], axis=1, inplace=True)\n",
    "\n",
    "data['ROADCOND'].replace(to_replace=['Dry','Wet', 'Unknown', 'Ice', 'Snow/Slush'\n",
    "                                    'Other', 'Standing Water', 'Sand/Mud/Dirt',\n",
    "                                    'Oil'], value=[1, 2, 3, 4, 5, 6, 7, 8],\n",
    "                        inplace=True)\n",
    "data['ROADCOND'] = pd.to_numeric(data.ROADCOND, errors='coerce')\n",
    "\n",
    "data['LIGHTCOND'].replace(to_replace=['Daylight', 'Dark - Street Lights On', 'Unknown',\n",
    "                                     'Dusk', 'Dawn', 'Dark - No Street Lights', \n",
    "                                     'Dark - Street Lights Off', 'Other', 'Dark - Unknown Lighting'],\n",
    "                         value=[1, 2, 3, 4, 5, 6, 7, 8, 9], inplace=True)\n",
    "\n",
    "data['ST_COLCODE'] = pd.to_numeric(data.ST_COLCODE, errors='coerce')\n",
    "data['SDOT_COLCODE'] = pd.to_numeric(data.ST_COLCODE, errors='coerce')\n",
    "\n",
    "#drop desc but keep code\n",
    "data.drop(['SDOT_COLDESC', 'ST_COLDESC'], axis=1, inplace=True)\n",
    "\n",
    "#cannot make sure the relationship with Y/N and 1/0 so drop\n",
    "data.drop(['UNDERINFL'], axis=1, inplace=True)\n",
    "\n",
    "#COLDETKEY only for each case so drop\n",
    "data.drop(['COLDETKEY'], axis=1, inplace=True)\n",
    "\n",
    "#INCKEY only for each case so drop\n",
    "data.drop(['INCKEY'], axis=1, inplace=True)\n",
    "\n",
    "#drop as correlations are too low to analyze\n",
    "data.drop(['STATUS', 'VEHCOUNT', 'JUNCTIONTYPE', 'LIGHTCOND'], axis=1, inplace=True)\n",
    "\n",
    "data.head()"
   ]
  },
  {
   "cell_type": "code",
   "execution_count": 64,
   "metadata": {},
   "outputs": [
    {
     "data": {
      "text/plain": [
       "SEVERITYCODE        0\n",
       "ADDRTYPE         1926\n",
       "SEVERITYDESC        0\n",
       "COLLISIONTYPE    4904\n",
       "PERSONCOUNT         0\n",
       "PEDCOUNT            0\n",
       "PEDCYLCOUNT         0\n",
       "SDOT_COLCODE     4904\n",
       "WEATHER          5081\n",
       "ROADCOND         6148\n",
       "ST_COLCODE       4904\n",
       "SEGLANEKEY          0\n",
       "CROSSWALKKEY        0\n",
       "HITPARKEDCAR        0\n",
       "dtype: int64"
      ]
     },
     "execution_count": 64,
     "metadata": {},
     "output_type": "execute_result"
    }
   ],
   "source": [
    "data.isna().sum()"
   ]
  },
  {
   "cell_type": "code",
   "execution_count": 65,
   "metadata": {},
   "outputs": [
    {
     "data": {
      "text/plain": [
       "SEVERITYCODE     0\n",
       "ADDRTYPE         0\n",
       "SEVERITYDESC     0\n",
       "COLLISIONTYPE    0\n",
       "PERSONCOUNT      0\n",
       "PEDCOUNT         0\n",
       "PEDCYLCOUNT      0\n",
       "SDOT_COLCODE     0\n",
       "WEATHER          0\n",
       "ROADCOND         0\n",
       "ST_COLCODE       0\n",
       "SEGLANEKEY       0\n",
       "CROSSWALKKEY     0\n",
       "HITPARKEDCAR     0\n",
       "dtype: int64"
      ]
     },
     "execution_count": 65,
     "metadata": {},
     "output_type": "execute_result"
    }
   ],
   "source": [
    "# replace 3% incomplete samples with mean of that feature\n",
    "mean=data['COLLISIONTYPE'].mean()\n",
    "data['COLLISIONTYPE'].replace(np.nan,mean, inplace=True)\n",
    "mean=data['ADDRTYPE'].mean()\n",
    "data['ADDRTYPE'].replace(np.nan,mean, inplace=True)\n",
    "mean=data['SDOT_COLCODE'].mean()\n",
    "data['SDOT_COLCODE'].replace(np.nan,mean, inplace=True)\n",
    "mean=data['WEATHER'].mean()\n",
    "data['WEATHER'].replace(np.nan,mean, inplace=True)\n",
    "mean=data['ROADCOND'].mean()\n",
    "data['ROADCOND'].replace(np.nan,mean, inplace=True)\n",
    "mean=data['ST_COLCODE'].mean()\n",
    "data['ST_COLCODE'].replace(np.nan,mean, inplace=True)\n",
    "data.isna().sum()"
   ]
  },
  {
   "cell_type": "code",
   "execution_count": 66,
   "metadata": {},
   "outputs": [
    {
     "data": {
      "text/plain": [
       "SDOT_COLCODE    -0.1630\n",
       "ST_COLCODE      -0.1630\n",
       "ROADCOND        -0.1058\n",
       "HITPARKEDCAR    -0.1015\n",
       "WEATHER          0.1025\n",
       "SEGLANEKEY       0.1043\n",
       "PERSONCOUNT      0.1309\n",
       "CROSSWALKKEY     0.1751\n",
       "ADDRTYPE         0.1854\n",
       "PEDCYLCOUNT      0.2142\n",
       "PEDCOUNT         0.2463\n",
       "COLLISIONTYPE    0.3069\n",
       "SEVERITYCODE     1.0000\n",
       "SEVERITYDESC     1.0000\n",
       "Name: SEVERITYCODE, dtype: float64"
      ]
     },
     "execution_count": 66,
     "metadata": {},
     "output_type": "execute_result"
    }
   ],
   "source": [
    "data.corr()['SEVERITYCODE'].sort_values().round(4)"
   ]
  },
  {
   "cell_type": "code",
   "execution_count": 67,
   "metadata": {},
   "outputs": [
    {
     "name": "stdout",
     "output_type": "stream",
     "text": [
      "Matplotlib version:  3.3.0\n"
     ]
    }
   ],
   "source": [
    "import matplotlib as mpl\n",
    "import matplotlib.pyplot as plt\n",
    "\n",
    "mpl.style.use('ggplot') \n",
    "print ('Matplotlib version: ', mpl.__version__) "
   ]
  },
  {
   "cell_type": "code",
   "execution_count": 68,
   "metadata": {},
   "outputs": [
    {
     "data": {
      "text/html": [
       "<div>\n",
       "<style scoped>\n",
       "    .dataframe tbody tr th:only-of-type {\n",
       "        vertical-align: middle;\n",
       "    }\n",
       "\n",
       "    .dataframe tbody tr th {\n",
       "        vertical-align: top;\n",
       "    }\n",
       "\n",
       "    .dataframe thead th {\n",
       "        text-align: right;\n",
       "    }\n",
       "</style>\n",
       "<table border=\"1\" class=\"dataframe\">\n",
       "  <thead>\n",
       "    <tr style=\"text-align: right;\">\n",
       "      <th></th>\n",
       "      <th>ADDRTYPE</th>\n",
       "      <th>SEVERITYDESC</th>\n",
       "      <th>COLLISIONTYPE</th>\n",
       "      <th>PEDCOUNT</th>\n",
       "      <th>PEDCYLCOUNT</th>\n",
       "      <th>SDOT_COLCODE</th>\n",
       "      <th>ST_COLCODE</th>\n",
       "      <th>CROSSWALKKEY</th>\n",
       "    </tr>\n",
       "  </thead>\n",
       "  <tbody>\n",
       "    <tr>\n",
       "      <th>0</th>\n",
       "      <td>2.0</td>\n",
       "      <td>2</td>\n",
       "      <td>2.0</td>\n",
       "      <td>0</td>\n",
       "      <td>0</td>\n",
       "      <td>10.0</td>\n",
       "      <td>10.0</td>\n",
       "      <td>0</td>\n",
       "    </tr>\n",
       "    <tr>\n",
       "      <th>1</th>\n",
       "      <td>1.0</td>\n",
       "      <td>1</td>\n",
       "      <td>5.0</td>\n",
       "      <td>0</td>\n",
       "      <td>0</td>\n",
       "      <td>11.0</td>\n",
       "      <td>11.0</td>\n",
       "      <td>0</td>\n",
       "    </tr>\n",
       "    <tr>\n",
       "      <th>2</th>\n",
       "      <td>1.0</td>\n",
       "      <td>1</td>\n",
       "      <td>1.0</td>\n",
       "      <td>0</td>\n",
       "      <td>0</td>\n",
       "      <td>32.0</td>\n",
       "      <td>32.0</td>\n",
       "      <td>0</td>\n",
       "    </tr>\n",
       "    <tr>\n",
       "      <th>3</th>\n",
       "      <td>1.0</td>\n",
       "      <td>1</td>\n",
       "      <td>4.0</td>\n",
       "      <td>0</td>\n",
       "      <td>0</td>\n",
       "      <td>23.0</td>\n",
       "      <td>23.0</td>\n",
       "      <td>0</td>\n",
       "    </tr>\n",
       "    <tr>\n",
       "      <th>4</th>\n",
       "      <td>2.0</td>\n",
       "      <td>2</td>\n",
       "      <td>2.0</td>\n",
       "      <td>0</td>\n",
       "      <td>0</td>\n",
       "      <td>10.0</td>\n",
       "      <td>10.0</td>\n",
       "      <td>0</td>\n",
       "    </tr>\n",
       "  </tbody>\n",
       "</table>\n",
       "</div>"
      ],
      "text/plain": [
       "   ADDRTYPE  SEVERITYDESC  COLLISIONTYPE  PEDCOUNT  PEDCYLCOUNT  SDOT_COLCODE  \\\n",
       "0       2.0             2            2.0         0            0          10.0   \n",
       "1       1.0             1            5.0         0            0          11.0   \n",
       "2       1.0             1            1.0         0            0          32.0   \n",
       "3       1.0             1            4.0         0            0          23.0   \n",
       "4       2.0             2            2.0         0            0          10.0   \n",
       "\n",
       "   ST_COLCODE  CROSSWALKKEY  \n",
       "0        10.0             0  \n",
       "1        11.0             0  \n",
       "2        32.0             0  \n",
       "3        23.0             0  \n",
       "4        10.0             0  "
      ]
     },
     "execution_count": 68,
     "metadata": {},
     "output_type": "execute_result"
    }
   ],
   "source": [
    "Feature = data[['ADDRTYPE','SEVERITYDESC','COLLISIONTYPE','PEDCOUNT','PEDCYLCOUNT',\n",
    "               'SDOT_COLCODE', 'ST_COLCODE', 'CROSSWALKKEY']]\n",
    "X = Feature\n",
    "X[0:5]"
   ]
  },
  {
   "cell_type": "code",
   "execution_count": 69,
   "metadata": {},
   "outputs": [
    {
     "data": {
      "text/plain": [
       "array([2, 1, 1, 1, 2])"
      ]
     },
     "execution_count": 69,
     "metadata": {},
     "output_type": "execute_result"
    }
   ],
   "source": [
    "y = data['SEVERITYCODE'].values\n",
    "y[0:5]"
   ]
  },
  {
   "cell_type": "code",
   "execution_count": 70,
   "metadata": {},
   "outputs": [
    {
     "name": "stdout",
     "output_type": "stream",
     "text": [
      "Train set: (155738, 8) (155738,)\n",
      "Test set: (38935, 8) (38935,)\n"
     ]
    }
   ],
   "source": [
    "from sklearn.model_selection import train_test_split\n",
    "X_train, X_test, y_train, y_test = train_test_split( X, y, test_size=0.2, random_state=4)\n",
    "print ('Train set:', X_train.shape,  y_train.shape)\n",
    "print ('Test set:', X_test.shape,  y_test.shape)"
   ]
  },
  {
   "cell_type": "code",
   "execution_count": 71,
   "metadata": {},
   "outputs": [
    {
     "name": "stderr",
     "output_type": "stream",
     "text": [
      "/home/jupyterlab/conda/envs/python/lib/python3.6/site-packages/sklearn/preprocessing/data.py:625: DataConversionWarning: Data with input dtype int64, float64 were all converted to float64 by StandardScaler.\n",
      "  return self.partial_fit(X, y)\n",
      "/home/jupyterlab/conda/envs/python/lib/python3.6/site-packages/ipykernel_launcher.py:1: DataConversionWarning: Data with input dtype int64, float64 were all converted to float64 by StandardScaler.\n",
      "  \"\"\"Entry point for launching an IPython kernel.\n"
     ]
    },
    {
     "data": {
      "text/plain": [
       "array([[ 1.36032213,  1.53153084, -0.59923991, -0.18743029, -0.16958841,\n",
       "        -0.89714424, -0.89714424, -0.13536153],\n",
       "       [-0.71772827, -0.65294147,  0.70961907, -0.18743029, -0.16958841,\n",
       "        -0.82737004, -0.82737004, -0.13536153],\n",
       "       [-0.71772827, -0.65294147, -1.03552623, -0.18743029, -0.16958841,\n",
       "         0.63788817,  0.63788817, -0.13536153],\n",
       "       [-0.71772827, -0.65294147,  0.27333274, -0.18743029, -0.16958841,\n",
       "         0.00992036,  0.00992036, -0.13536153],\n",
       "       [ 1.36032213,  1.53153084, -0.59923991, -0.18743029, -0.16958841,\n",
       "        -0.89714424, -0.89714424, -0.13536153]])"
      ]
     },
     "execution_count": 71,
     "metadata": {},
     "output_type": "execute_result"
    }
   ],
   "source": [
    "X= preprocessing.StandardScaler().fit(X).transform(X)\n",
    "X[0:5]"
   ]
  },
  {
   "cell_type": "code",
   "execution_count": 72,
   "metadata": {},
   "outputs": [
    {
     "data": {
      "text/plain": [
       "array([2, 1, 1, 2, 2])"
      ]
     },
     "execution_count": 72,
     "metadata": {},
     "output_type": "execute_result"
    }
   ],
   "source": [
    "#Training\n",
    "\n",
    "from sklearn.neighbors import KNeighborsClassifier\n",
    "k = 4\n",
    "neigh = KNeighborsClassifier(n_neighbors = k).fit(X_train,y_train)\n",
    "yhat = neigh.predict(X_test)\n",
    "yhat[0:5]"
   ]
  },
  {
   "cell_type": "code",
   "execution_count": 73,
   "metadata": {},
   "outputs": [
    {
     "data": {
      "text/plain": [
       "array([0.99691794, 0.9955567 , 0.99709773, 0.99689226, 0.99743162,\n",
       "       0.9974573 , 0.99753435, 0.99740593, 0.99748298])"
      ]
     },
     "execution_count": 73,
     "metadata": {},
     "output_type": "execute_result"
    }
   ],
   "source": [
    "from sklearn import metrics\n",
    "Ks = 10\n",
    "mean_acc = np.zeros((Ks-1))\n",
    "std_acc = np.zeros((Ks-1))\n",
    "ConfustionMx = [];\n",
    "for n in range(1,Ks):\n",
    "    \n",
    "    neigh = KNeighborsClassifier(n_neighbors = n).fit(X_train,y_train)\n",
    "    yhat=neigh.predict(X_test)\n",
    "    mean_acc[n-1] = metrics.accuracy_score(y_test, yhat)\n",
    "\n",
    "    \n",
    "    std_acc[n-1]=np.std(yhat==y_test)/np.sqrt(yhat.shape[0])\n",
    "\n",
    "mean_acc"
   ]
  },
  {
   "cell_type": "code",
   "execution_count": 74,
   "metadata": {},
   "outputs": [
    {
     "data": {
      "image/png": "[encoded data removed]",
      "text/plain": [
       "<Figure size 432x288 with 1 Axes>"
      ]
     },
     "metadata": {},
     "output_type": "display_data"
    },
    {
     "name": "stdout",
     "output_type": "stream",
     "text": [
      "The best accuracy was with 0.9975343521253371 with k= 7\n"
     ]
    }
   ],
   "source": [
    "plt.plot(range(1,Ks),mean_acc,'g')\n",
    "plt.fill_between(range(1,Ks),mean_acc - 1 * std_acc,mean_acc + 1 * std_acc, alpha=0.10)\n",
    "plt.legend(('Accuracy ', '+/- 3xstd'))\n",
    "plt.ylabel('Accuracy ')\n",
    "plt.xlabel('Number of Nabors (K)')\n",
    "plt.tight_layout()\n",
    "plt.show()\n",
    "\n",
    "print( \"The best accuracy was with\", mean_acc.max(), \"with k=\", mean_acc.argmax()+1) "
   ]
  },
  {
   "cell_type": "code",
   "execution_count": 75,
   "metadata": {},
   "outputs": [
    {
     "data": {
      "text/plain": [
       "KNeighborsClassifier(algorithm='auto', leaf_size=30, metric='minkowski',\n",
       "           metric_params=None, n_jobs=None, n_neighbors=7, p=2,\n",
       "           weights='uniform')"
      ]
     },
     "execution_count": 75,
     "metadata": {},
     "output_type": "execute_result"
    }
   ],
   "source": [
    "k = 7\n",
    "neigh = KNeighborsClassifier(n_neighbors = k).fit(X_train,y_train)\n",
    "yhat = neigh.predict(X_test)\n",
    "neigh"
   ]
  },
  {
   "cell_type": "code",
   "execution_count": 76,
   "metadata": {},
   "outputs": [],
   "source": [
    "#Model Evaluation \n",
    "from sklearn.metrics import jaccard_similarity_score\n",
    "from sklearn.metrics import f1_score\n",
    "from sklearn.metrics import log_loss"
   ]
  },
  {
   "cell_type": "code",
   "execution_count": 77,
   "metadata": {},
   "outputs": [
    {
     "name": "stdout",
     "output_type": "stream",
     "text": [
      "Jaccard: 1.0\n",
      "F1 score: 1.0\n"
     ]
    }
   ],
   "source": [
    "# f1_score \n",
    "KNN_f1_test=f1_score(y_test, yhat, average='weighted').round(2)\n",
    "\n",
    "# jaccard index for accuracy\n",
    "KNN_ja_test=jaccard_similarity_score(y_test, yhat).round(2)\n",
    "\n",
    "print(\"Jaccard:\", KNN_ja_test)\n",
    "print(\"F1 score:\", KNN_f1_test)"
   ]
  },
  {
   "cell_type": "code",
   "execution_count": 78,
   "metadata": {},
   "outputs": [
    {
     "data": {
      "text/plain": [
       "DecisionTreeClassifier(class_weight=None, criterion='entropy', max_depth=4,\n",
       "            max_features=None, max_leaf_nodes=None,\n",
       "            min_impurity_decrease=0.0, min_impurity_split=None,\n",
       "            min_samples_leaf=1, min_samples_split=2,\n",
       "            min_weight_fraction_leaf=0.0, presort=False, random_state=None,\n",
       "            splitter='best')"
      ]
     },
     "execution_count": 78,
     "metadata": {},
     "output_type": "execute_result"
    }
   ],
   "source": [
    "#Decision Tree\n",
    "from sklearn.tree import DecisionTreeClassifier\n",
    "loanTree = DecisionTreeClassifier(criterion=\"entropy\", max_depth = 4)\n",
    "loanTree.fit(X_train,y_train)\n",
    "loanTree"
   ]
  },
  {
   "cell_type": "code",
   "execution_count": 79,
   "metadata": {},
   "outputs": [
    {
     "data": {
      "text/plain": [
       "array([2, 1, 1, ..., 1, 1, 2])"
      ]
     },
     "execution_count": 79,
     "metadata": {},
     "output_type": "execute_result"
    }
   ],
   "source": [
    "predTree = loanTree.predict(X_test)\n",
    "predTree"
   ]
  },
  {
   "cell_type": "code",
   "execution_count": 80,
   "metadata": {},
   "outputs": [
    {
     "name": "stdout",
     "output_type": "stream",
     "text": [
      "Jaccard: 1.0\n",
      "F1 score: 1.0\n"
     ]
    }
   ],
   "source": [
    "# f1_score \n",
    "tree_f1_test=f1_score(y_test, yhat, average='weighted').round(2)\n",
    "\n",
    "# jaccard index for accuracy\n",
    "tree_ja_test=jaccard_similarity_score(y_test, yhat).round(2)\n",
    "\n",
    "print(\"Jaccard:\", tree_ja_test)\n",
    "print(\"F1 score:\", tree_f1_test)"
   ]
  },
  {
   "cell_type": "code",
   "execution_count": 81,
   "metadata": {},
   "outputs": [
    {
     "name": "stderr",
     "output_type": "stream",
     "text": [
      "/home/jupyterlab/conda/envs/python/lib/python3.6/site-packages/sklearn/svm/base.py:196: FutureWarning: The default value of gamma will change from 'auto' to 'scale' in version 0.22 to account better for unscaled features. Set gamma explicitly to 'auto' or 'scale' to avoid this warning.\n",
      "  \"avoid this warning.\", FutureWarning)\n"
     ]
    },
    {
     "data": {
      "text/plain": [
       "array([2, 1, 1, ..., 1, 1, 2])"
      ]
     },
     "execution_count": 81,
     "metadata": {},
     "output_type": "execute_result"
    }
   ],
   "source": [
    "#SVM\n",
    "from sklearn import svm\n",
    "clf = svm.SVC(kernel='rbf')\n",
    "clf.fit(X_train, y_train) \n",
    "yhat = clf.predict(X_test)\n",
    "yhat"
   ]
  },
  {
   "cell_type": "code",
   "execution_count": 82,
   "metadata": {},
   "outputs": [
    {
     "name": "stdout",
     "output_type": "stream",
     "text": [
      "Jaccard: 1.0\n",
      "F1 score: 1.0\n"
     ]
    }
   ],
   "source": [
    "# f1_score \n",
    "svm_f1_test=f1_score(y_test, yhat, average='weighted').round(2)\n",
    "\n",
    "# jaccard index for accuracy\n",
    "svm_ja_test=jaccard_similarity_score(y_test, yhat).round(2)\n",
    "\n",
    "print(\"Jaccard:\", svm_ja_test)\n",
    "print(\"F1 score:\", svm_f1_test)"
   ]
  },
  {
   "cell_type": "code",
   "execution_count": 83,
   "metadata": {},
   "outputs": [
    {
     "name": "stderr",
     "output_type": "stream",
     "text": [
      "/home/jupyterlab/conda/envs/python/lib/python3.6/site-packages/sklearn/linear_model/logistic.py:433: FutureWarning: Default solver will be changed to 'lbfgs' in 0.22. Specify a solver to silence this warning.\n",
      "  FutureWarning)\n"
     ]
    },
    {
     "data": {
      "text/plain": [
       "LogisticRegression(C=0.01, class_weight=None, dual=False, fit_intercept=True,\n",
       "          intercept_scaling=1, max_iter=100, multi_class='warn',\n",
       "          n_jobs=None, penalty='l2', random_state=None, solver='warn',\n",
       "          tol=0.0001, verbose=0, warm_start=False)"
      ]
     },
     "execution_count": 83,
     "metadata": {},
     "output_type": "execute_result"
    }
   ],
   "source": [
    "#Logistic Regression\n",
    "from sklearn.linear_model import LogisticRegression\n",
    "from sklearn.metrics import confusion_matrix\n",
    "LR = LogisticRegression(C=0.01).fit(X_train, y_train)\n",
    "LR"
   ]
  },
  {
   "cell_type": "code",
   "execution_count": 84,
   "metadata": {},
   "outputs": [
    {
     "data": {
      "text/plain": [
       "array([2, 1, 1, ..., 1, 1, 2])"
      ]
     },
     "execution_count": 84,
     "metadata": {},
     "output_type": "execute_result"
    }
   ],
   "source": [
    "yhat = LR.predict(X_test)\n",
    "yhat"
   ]
  },
  {
   "cell_type": "code",
   "execution_count": 85,
   "metadata": {},
   "outputs": [
    {
     "name": "stdout",
     "output_type": "stream",
     "text": [
      "Jaccard: 0.92\n",
      "F1 score: 0.91\n",
      "LogLoss: 0.35\n"
     ]
    }
   ],
   "source": [
    "yhat_prob_test = LR.predict_proba(X_test)\n",
    "\n",
    "# log loss for evaluation\n",
    "LR_loss_test=log_loss(y_test, yhat_prob_test).round(2)\n",
    "\n",
    "# jaccard index for accuracy:\n",
    "LR_ja_test=jaccard_similarity_score(y_test, yhat).round(2)\n",
    "\n",
    "# f1_score \n",
    "LR_f1_test=f1_score(y_test, yhat, average='weighted').round(2)\n",
    "\n",
    "print(\"Jaccard:\", LR_ja_test)\n",
    "print(\"F1 score:\", LR_f1_test)\n",
    "print(\"LogLoss:\", LR_loss_test)"
   ]
  },
  {
   "cell_type": "code",
   "execution_count": 86,
   "metadata": {},
   "outputs": [
    {
     "data": {
      "text/html": [
       "<div>\n",
       "<style scoped>\n",
       "    .dataframe tbody tr th:only-of-type {\n",
       "        vertical-align: middle;\n",
       "    }\n",
       "\n",
       "    .dataframe tbody tr th {\n",
       "        vertical-align: top;\n",
       "    }\n",
       "\n",
       "    .dataframe thead th {\n",
       "        text-align: right;\n",
       "    }\n",
       "</style>\n",
       "<table border=\"1\" class=\"dataframe\">\n",
       "  <thead>\n",
       "    <tr style=\"text-align: right;\">\n",
       "      <th></th>\n",
       "      <th>Algorithm</th>\n",
       "      <th>Jaccard</th>\n",
       "      <th>F1-score</th>\n",
       "      <th>LogLoss</th>\n",
       "    </tr>\n",
       "  </thead>\n",
       "  <tbody>\n",
       "    <tr>\n",
       "      <th>0</th>\n",
       "      <td>KNN</td>\n",
       "      <td>1.00</td>\n",
       "      <td>1.00</td>\n",
       "      <td>NA</td>\n",
       "    </tr>\n",
       "    <tr>\n",
       "      <th>1</th>\n",
       "      <td>Decision Tree</td>\n",
       "      <td>1.00</td>\n",
       "      <td>1.00</td>\n",
       "      <td>NA</td>\n",
       "    </tr>\n",
       "    <tr>\n",
       "      <th>2</th>\n",
       "      <td>SVM</td>\n",
       "      <td>1.00</td>\n",
       "      <td>1.00</td>\n",
       "      <td>NA</td>\n",
       "    </tr>\n",
       "    <tr>\n",
       "      <th>3</th>\n",
       "      <td>LogisticRegression</td>\n",
       "      <td>0.92</td>\n",
       "      <td>0.91</td>\n",
       "      <td>0.35</td>\n",
       "    </tr>\n",
       "  </tbody>\n",
       "</table>\n",
       "</div>"
      ],
      "text/plain": [
       "            Algorithm  Jaccard  F1-score LogLoss\n",
       "0                 KNN     1.00      1.00      NA\n",
       "1       Decision Tree     1.00      1.00      NA\n",
       "2                 SVM     1.00      1.00      NA\n",
       "3  LogisticRegression     0.92      0.91    0.35"
      ]
     },
     "execution_count": 86,
     "metadata": {},
     "output_type": "execute_result"
    }
   ],
   "source": [
    "data = {'Algorithm': ['KNN', 'Decision Tree', 'SVM', 'LogisticRegression'],'Jaccard': [KNN_ja_test, tree_ja_test, svm_ja_test, LR_ja_test], 'F1-score': [KNN_f1_test, tree_f1_test, svm_f1_test, LR_f1_test], 'LogLoss': ['NA', 'NA', 'NA', LR_loss_test]}\n",
    "report=pd.DataFrame.from_dict(data)\n",
    "report"
   ]
  },
  {
   "cell_type": "code",
   "execution_count": 87,
   "metadata": {},
   "outputs": [
    {
     "name": "stderr",
     "output_type": "stream",
     "text": [
      "/home/jupyterlab/conda/envs/python/lib/python3.6/site-packages/IPython/core/interactiveshell.py:3072: DtypeWarning: Columns (33) have mixed types.Specify dtype option on import or set low_memory=False.\n",
      "  interactivity=interactivity, compiler=compiler, result=result)\n"
     ]
    },
    {
     "data": {
      "text/plain": [
       "SEVERITYCODE     0\n",
       "ADDRTYPE         0\n",
       "SEVERITYDESC     0\n",
       "COLLISIONTYPE    0\n",
       "PERSONCOUNT      0\n",
       "PEDCOUNT         0\n",
       "PEDCYLCOUNT      0\n",
       "SDOT_COLCODE     0\n",
       "WEATHER          0\n",
       "ROADCOND         0\n",
       "ST_COLCODE       0\n",
       "SEGLANEKEY       0\n",
       "CROSSWALKKEY     0\n",
       "HITPARKEDCAR     0\n",
       "dtype: int64"
      ]
     },
     "execution_count": 87,
     "metadata": {},
     "output_type": "execute_result"
    }
   ],
   "source": [
    "import itertools\n",
    "import numpy as np\n",
    "import matplotlib.pyplot as plt\n",
    "from matplotlib.ticker import NullFormatter\n",
    "import pandas as pd\n",
    "import numpy as np\n",
    "import matplotlib.ticker as ticker\n",
    "from sklearn import preprocessing\n",
    "%matplotlib inline\n",
    "\n",
    "path='https://s3.us.cloud-object-storage.appdomain.cloud/cf-courses-data/CognitiveClass/DP0701EN/version-2/Data-Collisions.csv'\n",
    "data=pd.read_csv(path)\n",
    "\n",
    "#Pre-processing\n",
    "#SEVERITYCODE.1 is repeated so drop the column\n",
    "data.drop(\"SEVERITYCODE.1\", axis=1, inplace=True)\n",
    "\n",
    "#Convert Categorical features to numerical value\n",
    "\n",
    "data['STATUS'].replace(to_replace=['Matched','Unmatched'], value=[1,0],inplace=True) #almost 100% matched\n",
    "data['ADDRTYPE'].replace(to_replace=['Block','Intersection', 'Alley'], value=[1, 2, 3],inplace=True)\n",
    "\n",
    "#Weather clear condition is nearly 60% for both severity codes. The options also include unknown and other which cannot be analyzed\n",
    "#Therefore, I normalize the data to good weather (clear - 1), nothing to do with weather (unknown & other - 0), bad weather (the rest -2)\n",
    "data['WEATHER'].replace(to_replace=['Clear', 'Raining', 'Overcast', 'Unknown', 'Fog/Smog/Smoke', 'Snowing', 'Other', 'Sleet/Hail/Freezing Rain', 'Blowing Sand/Dirt', 'Severe Crosswind', 'Partly Cloudy'], value=[1, 2, 2, 0, 2, 2, 0, 2, 2, 2, 2],inplace=True)\n",
    "data['HITPARKEDCAR'].replace(to_replace=['N', 'Y'], value=[0, 1], inplace=True)\n",
    "\n",
    "#drop X and Y column, for not specifying the meaning\n",
    "data.drop('X', axis=1, inplace=True)\n",
    "data.drop('Y', axis=1, inplace=True)\n",
    "\n",
    "#drop columns that have over half NaN values\n",
    "data.drop(['EXCEPTRSNCODE', 'EXCEPTRSNDESC', 'INTKEY', 'INATTENTIONIND', 'PEDROWNOTGRNT', 'SPEEDING'], axis=1, inplace=True)\n",
    "\n",
    "#report no. has nothing to do with severity so drop\n",
    "data.drop(['REPORTNO'], axis=1, inplace=True)\n",
    "\n",
    "data['SEVERITYDESC'].replace(to_replace=['Property Damage Only Collision', 'Injury Collision'], value=[1, 2], inplace=True)\n",
    "data['COLLISIONTYPE'].replace(to_replace=['Parked Car', 'Angles', 'Rear Ended', 'Other', 'Sideswipe', 'Left Turn', 'Right Turn', 'Head On', 'Pedestrian', 'Cycles'], value=[1, 2, 3, 4, 5, 6, 7, 8, 9, 10], inplace=True) \n",
    "\n",
    "#OBJECTID is only for each case so drop\n",
    "data.drop(['OBJECTID'], axis=1, inplace=True)\n",
    "\n",
    "# INCDATE,INCDTTM is only for each case so drop\n",
    "data.drop(['INCDATE', 'INCDTTM'], axis=1, inplace=True)\n",
    "\n",
    "data['JUNCTIONTYPE'].replace(to_replace=['At Intersection (intersection related)', 'Mid-Block (not related to intersection)','Mid-Block (but intersection related)','Driveway Junction', 'At Intersection (but not related to intersection)', 'Ramp Junction', 'Unknown'], value=[1, 2, 3, 4, 5, 6, 7], inplace=True)\n",
    "\n",
    "#Location has very little to do with severity so drop\n",
    "data.drop(['LOCATION'], axis=1, inplace=True)\n",
    "\n",
    "#SDOTCOLNUM has too many NAN to analyze so drop\n",
    "data.drop(['SDOTCOLNUM'], axis=1, inplace=True)\n",
    "\n",
    "data['ROADCOND'].replace(to_replace=['Dry','Wet', 'Unknown', 'Ice', 'Snow/Slush'\n",
    "                                    'Other', 'Standing Water', 'Sand/Mud/Dirt',\n",
    "                                    'Oil'], value=[1, 2, 3, 4, 5, 6, 7, 8],\n",
    "                        inplace=True)\n",
    "data['ROADCOND'] = pd.to_numeric(data.ROADCOND, errors='coerce')\n",
    "\n",
    "data['LIGHTCOND'].replace(to_replace=['Daylight', 'Dark - Street Lights On', 'Unknown',\n",
    "                                     'Dusk', 'Dawn', 'Dark - No Street Lights', \n",
    "                                     'Dark - Street Lights Off', 'Other', 'Dark - Unknown Lighting'],\n",
    "                         value=[1, 2, 3, 4, 5, 6, 7, 8, 9], inplace=True)\n",
    "\n",
    "data['ST_COLCODE'] = pd.to_numeric(data.ST_COLCODE, errors='coerce')\n",
    "data['SDOT_COLCODE'] = pd.to_numeric(data.ST_COLCODE, errors='coerce')\n",
    "\n",
    "#drop desc but keep code\n",
    "data.drop(['SDOT_COLDESC', 'ST_COLDESC'], axis=1, inplace=True)\n",
    "\n",
    "#cannot make sure the relationship with Y/N and 1/0 so drop\n",
    "data.drop(['UNDERINFL'], axis=1, inplace=True)\n",
    "\n",
    "#COLDETKEY only for each case so drop\n",
    "data.drop(['COLDETKEY'], axis=1, inplace=True)\n",
    "\n",
    "#INCKEY only for each case so drop\n",
    "data.drop(['INCKEY'], axis=1, inplace=True)\n",
    "\n",
    "#drop as correlations are too low to analyze\n",
    "data.drop(['STATUS', 'VEHCOUNT', 'JUNCTIONTYPE', 'LIGHTCOND'], axis=1, inplace=True)\n",
    "\n",
    "# replace 3% incomplete samples with mean of that feature\n",
    "mean=data['COLLISIONTYPE'].mean()\n",
    "data['COLLISIONTYPE'].replace(np.nan,mean, inplace=True)\n",
    "mean=data['ADDRTYPE'].mean()\n",
    "data['ADDRTYPE'].replace(np.nan,mean, inplace=True)\n",
    "mean=data['SDOT_COLCODE'].mean()\n",
    "data['SDOT_COLCODE'].replace(np.nan,mean, inplace=True)\n",
    "mean=data['WEATHER'].mean()\n",
    "data['WEATHER'].replace(np.nan,mean, inplace=True)\n",
    "mean=data['ROADCOND'].mean()\n",
    "data['ROADCOND'].replace(np.nan,mean, inplace=True)\n",
    "mean=data['ST_COLCODE'].mean()\n",
    "data['ST_COLCODE'].replace(np.nan,mean, inplace=True)\n",
    "data.isna().sum()"
   ]
  },
  {
   "cell_type": "code",
   "execution_count": 88,
   "metadata": {},
   "outputs": [
    {
     "data": {
      "text/plain": [
       "SDOT_COLCODE    -0.1630\n",
       "ST_COLCODE      -0.1630\n",
       "ROADCOND        -0.1058\n",
       "HITPARKEDCAR    -0.1015\n",
       "WEATHER          0.1025\n",
       "SEGLANEKEY       0.1043\n",
       "PERSONCOUNT      0.1309\n",
       "CROSSWALKKEY     0.1751\n",
       "ADDRTYPE         0.1854\n",
       "PEDCYLCOUNT      0.2142\n",
       "PEDCOUNT         0.2463\n",
       "COLLISIONTYPE    0.3069\n",
       "SEVERITYCODE     1.0000\n",
       "SEVERITYDESC     1.0000\n",
       "Name: SEVERITYCODE, dtype: float64"
      ]
     },
     "execution_count": 88,
     "metadata": {},
     "output_type": "execute_result"
    }
   ],
   "source": [
    "data.corr()['SEVERITYCODE'].sort_values().round(4)"
   ]
  },
  {
   "cell_type": "code",
   "execution_count": 89,
   "metadata": {},
   "outputs": [],
   "source": [
    "#Build Regression Model\n",
    "X1 = data[['ADDRTYPE','SEVERITYDESC','COLLISIONTYPE','PEDCOUNT','PEDCYLCOUNT','SDOT_COLCODE', 'ST_COLCODE', 'CROSSWALKKEY', 'SEVERITYCODE']]\n",
    "X1[0:5]\n",
    "msk = np.random.rand(len(data)) < 0.8\n",
    "train = X1[msk]\n",
    "test = X1[~msk]"
   ]
  },
  {
   "cell_type": "code",
   "execution_count": 90,
   "metadata": {},
   "outputs": [
    {
     "name": "stdout",
     "output_type": "stream",
     "text": [
      "Coefficients:  [[ 5.03092900e-12  1.00000000e+00  4.17623584e-13 -3.03688861e-11\n",
      "  -3.53582124e-12 -1.51234006e-14  1.34492298e-14  1.11022302e-16]]\n",
      "Intercept:  [-7.01860792e-12]\n"
     ]
    }
   ],
   "source": [
    "from sklearn import linear_model\n",
    "regr = linear_model.LinearRegression()\n",
    "x1 = np.asanyarray(train[['ADDRTYPE','SEVERITYDESC','COLLISIONTYPE','PEDCOUNT','PEDCYLCOUNT',\n",
    "               'SDOT_COLCODE', 'ST_COLCODE', 'CROSSWALKKEY']])\n",
    "y1 = np.asanyarray(train[['SEVERITYCODE']])\n",
    "regr.fit (x1, y1)\n",
    "print ('Coefficients: ', regr.coef_)\n",
    "print ('Intercept: ',regr.intercept_)"
   ]
  },
  {
   "cell_type": "code",
   "execution_count": 91,
   "metadata": {},
   "outputs": [
    {
     "name": "stdout",
     "output_type": "stream",
     "text": [
      "Residual sum of squares: 0.00\n"
     ]
    },
    {
     "data": {
      "text/plain": [
       "1.0"
      ]
     },
     "execution_count": 91,
     "metadata": {},
     "output_type": "execute_result"
    }
   ],
   "source": [
    "x = np.asanyarray(test[['ADDRTYPE','SEVERITYDESC','COLLISIONTYPE','PEDCOUNT','PEDCYLCOUNT',\n",
    "               'SDOT_COLCODE', 'ST_COLCODE', 'CROSSWALKKEY']])\n",
    "y = np.asanyarray(test[['SEVERITYCODE']])\n",
    "y_hat= regr.predict(test[['ADDRTYPE','SEVERITYDESC','COLLISIONTYPE','PEDCOUNT','PEDCYLCOUNT',\n",
    "               'SDOT_COLCODE', 'ST_COLCODE', 'CROSSWALKKEY']])\n",
    "print(\"Residual sum of squares: %.2f\"\n",
    "      % np.mean((y_hat - y) ** 2))\n",
    "\n",
    "R8=regr.score(x, y).round(4)\n",
    "R8"
   ]
  },
  {
   "cell_type": "code",
   "execution_count": 92,
   "metadata": {},
   "outputs": [
    {
     "name": "stdout",
     "output_type": "stream",
     "text": [
      "Coefficients:  [[ 9.31831456e-02  2.67610658e-02  3.35570158e-01  4.67999636e-01\n",
      "  -2.17977631e-03 -2.17977631e-03 -4.16592110e-08]]\n",
      "Intercept:  [1.15727755]\n"
     ]
    }
   ],
   "source": [
    "#Remove 'SEVERITYDESC'\n",
    "X1 = data[['ADDRTYPE','COLLISIONTYPE','PEDCOUNT','PEDCYLCOUNT',\n",
    "               'SDOT_COLCODE', 'ST_COLCODE', 'CROSSWALKKEY', 'SEVERITYCODE']]\n",
    "msk = np.random.rand(len(data)) < 0.8\n",
    "train = X1[msk]\n",
    "test = X1[~msk]\n",
    "\n",
    "regr = linear_model.LinearRegression()\n",
    "x1 = np.asanyarray(train[['ADDRTYPE','COLLISIONTYPE','PEDCOUNT','PEDCYLCOUNT',\n",
    "               'SDOT_COLCODE', 'ST_COLCODE', 'CROSSWALKKEY']])\n",
    "y1 = np.asanyarray(train[['SEVERITYCODE']])\n",
    "regr.fit (x1, y1)\n",
    "print ('Coefficients: ', regr.coef_)\n",
    "print ('Intercept: ',regr.intercept_)"
   ]
  },
  {
   "cell_type": "code",
   "execution_count": 93,
   "metadata": {},
   "outputs": [
    {
     "name": "stdout",
     "output_type": "stream",
     "text": [
      "Residual sum of squares: 0.18\n",
      "Variance score: 0.15\n"
     ]
    }
   ],
   "source": [
    "#Remove 'SEVERITYDESC'\n",
    "x = np.asanyarray(test[['ADDRTYPE','COLLISIONTYPE','PEDCOUNT','PEDCYLCOUNT',\n",
    "               'SDOT_COLCODE', 'ST_COLCODE', 'CROSSWALKKEY']])\n",
    "y = np.asanyarray(test[['SEVERITYCODE']])\n",
    "y_hat= regr.predict(test[['ADDRTYPE','COLLISIONTYPE','PEDCOUNT','PEDCYLCOUNT',\n",
    "               'SDOT_COLCODE', 'ST_COLCODE', 'CROSSWALKKEY']])\n",
    "print(\"Residual sum of squares: %.2f\"\n",
    "      % np.mean((y_hat - y) ** 2))\n",
    "\n",
    "print('Variance score: %.2f' % regr.score(x, y))"
   ]
  },
  {
   "cell_type": "code",
   "execution_count": 94,
   "metadata": {},
   "outputs": [
    {
     "data": {
      "text/plain": [
       "SDOT_COLCODE    -0.1630\n",
       "ST_COLCODE      -0.1630\n",
       "ROADCOND        -0.1058\n",
       "HITPARKEDCAR    -0.1015\n",
       "WEATHER          0.1025\n",
       "SEGLANEKEY       0.1043\n",
       "PERSONCOUNT      0.1309\n",
       "CROSSWALKKEY     0.1751\n",
       "ADDRTYPE         0.1854\n",
       "PEDCYLCOUNT      0.2142\n",
       "PEDCOUNT         0.2463\n",
       "COLLISIONTYPE    0.3069\n",
       "SEVERITYCODE     1.0000\n",
       "SEVERITYDESC     1.0000\n",
       "Name: SEVERITYCODE, dtype: float64"
      ]
     },
     "execution_count": 94,
     "metadata": {},
     "output_type": "execute_result"
    }
   ],
   "source": [
    "data.corr()['SEVERITYCODE'].sort_values().round(4)"
   ]
  },
  {
   "cell_type": "code",
   "execution_count": 95,
   "metadata": {},
   "outputs": [
    {
     "name": "stdout",
     "output_type": "stream",
     "text": [
      "Coefficients:  [[ 1.00000000e+00 -4.37761921e-17  2.98213901e-17  2.69186285e-17]]\n",
      "Intercept:  [-6.88338275e-15]\n"
     ]
    }
   ],
   "source": [
    "#Keep only corr score over 0.2\n",
    "X1 = data[['SEVERITYDESC','COLLISIONTYPE','PEDCOUNT','PEDCYLCOUNT','SEVERITYCODE']]\n",
    "msk = np.random.rand(len(data)) < 0.8\n",
    "train = X1[msk]\n",
    "test = X1[~msk]\n",
    "\n",
    "regr = linear_model.LinearRegression()\n",
    "x1 = np.asanyarray(train[['SEVERITYDESC','COLLISIONTYPE','PEDCOUNT','PEDCYLCOUNT']])\n",
    "y1 = np.asanyarray(train[['SEVERITYCODE']])\n",
    "regr.fit (x1, y1)\n",
    "print ('Coefficients: ', regr.coef_)\n",
    "print ('Intercept: ',regr.intercept_)\n"
   ]
  },
  {
   "cell_type": "code",
   "execution_count": 96,
   "metadata": {},
   "outputs": [
    {
     "name": "stdout",
     "output_type": "stream",
     "text": [
      "Residual sum of squares: 0.00\n"
     ]
    },
    {
     "data": {
      "text/plain": [
       "1.0"
      ]
     },
     "execution_count": 96,
     "metadata": {},
     "output_type": "execute_result"
    }
   ],
   "source": [
    "#Keep only corr score over 0.2\n",
    "x = np.asanyarray(test[['SEVERITYDESC','COLLISIONTYPE','PEDCOUNT','PEDCYLCOUNT']])\n",
    "y = np.asanyarray(test[['SEVERITYCODE']])\n",
    "y_hat= regr.predict(test[['SEVERITYDESC','COLLISIONTYPE','PEDCOUNT','PEDCYLCOUNT']])\n",
    "print(\"Residual sum of squares: %.2f\"\n",
    "      % np.mean((y_hat - y) ** 2))\n",
    "\n",
    "R02=regr.score(x, y).round(4)\n",
    "R02"
   ]
  },
  {
   "cell_type": "code",
   "execution_count": 97,
   "metadata": {},
   "outputs": [
    {
     "name": "stdout",
     "output_type": "stream",
     "text": [
      "Coefficients:  [[0.03207152 0.4134084  0.38021699]]\n",
      "Intercept:  [1.16455019]\n"
     ]
    }
   ],
   "source": [
    "#Keep only corr score over 0.2, remove'SEVERITYDESC'\n",
    "X1 = data[['COLLISIONTYPE','PEDCOUNT','PEDCYLCOUNT','SEVERITYCODE']]\n",
    "msk = np.random.rand(len(data)) < 0.8\n",
    "train = X1[msk]\n",
    "test = X1[~msk]\n",
    "\n",
    "regr = linear_model.LinearRegression()\n",
    "x1 = np.asanyarray(train[['COLLISIONTYPE','PEDCOUNT','PEDCYLCOUNT']])\n",
    "y1 = np.asanyarray(train[['SEVERITYCODE']])\n",
    "regr.fit (x1, y1)\n",
    "print ('Coefficients: ', regr.coef_)\n",
    "print ('Intercept: ',regr.intercept_)"
   ]
  },
  {
   "cell_type": "code",
   "execution_count": 98,
   "metadata": {},
   "outputs": [
    {
     "name": "stdout",
     "output_type": "stream",
     "text": [
      "Residual sum of squares: 0.18\n"
     ]
    },
    {
     "data": {
      "text/plain": [
       "0.1228"
      ]
     },
     "execution_count": 98,
     "metadata": {},
     "output_type": "execute_result"
    }
   ],
   "source": [
    "#Keep only corr score over 0.2, remove'SEVERITYDESC'\n",
    "x = np.asanyarray(test[['COLLISIONTYPE','PEDCOUNT','PEDCYLCOUNT']])\n",
    "y = np.asanyarray(test[['SEVERITYCODE']])\n",
    "y_hat= regr.predict(test[['COLLISIONTYPE','PEDCOUNT','PEDCYLCOUNT']])\n",
    "print(\"Residual sum of squares: %.2f\"\n",
    "      % np.mean((y_hat - y) ** 2))\n",
    "\n",
    "R021=regr.score(x, y).round(4)\n",
    "R021"
   ]
  },
  {
   "cell_type": "code",
   "execution_count": 99,
   "metadata": {},
   "outputs": [
    {
     "name": "stdout",
     "output_type": "stream",
     "text": [
      "Coefficients:  [[ 2.73757512e-02  3.28428850e-01  4.62279634e-01 -2.70610414e-08\n",
      "   9.07658034e-02 -2.21004697e-03 -2.21004697e-03]]\n",
      "Intercept:  [1.16107742]\n"
     ]
    }
   ],
   "source": [
    "#Keep only corr score over 0.15, remove'SEVERITYDESC'\n",
    "X1 = data[['COLLISIONTYPE','PEDCOUNT','PEDCYLCOUNT','SEVERITYCODE',\n",
    "          'CROSSWALKKEY', 'ADDRTYPE', 'SDOT_COLCODE', 'ST_COLCODE']]\n",
    "msk = np.random.rand(len(data)) < 0.8\n",
    "train = X1[msk]\n",
    "test = X1[~msk]\n",
    "\n",
    "regr = linear_model.LinearRegression()\n",
    "x1 = np.asanyarray(train[['COLLISIONTYPE','PEDCOUNT','PEDCYLCOUNT',\n",
    "                         'CROSSWALKKEY', 'ADDRTYPE', 'SDOT_COLCODE', 'ST_COLCODE']])\n",
    "y1 = np.asanyarray(train[['SEVERITYCODE']])\n",
    "regr.fit (x1, y1)\n",
    "print ('Coefficients: ', regr.coef_)\n",
    "print ('Intercept: ',regr.intercept_)"
   ]
  },
  {
   "cell_type": "code",
   "execution_count": 100,
   "metadata": {},
   "outputs": [
    {
     "name": "stdout",
     "output_type": "stream",
     "text": [
      "Residual sum of squares: 0.18\n"
     ]
    },
    {
     "data": {
      "text/plain": [
       "0.1468"
      ]
     },
     "execution_count": 100,
     "metadata": {},
     "output_type": "execute_result"
    }
   ],
   "source": [
    "#Keep only corr score over 0.15, remove'SEVERITYDESC'\n",
    "x = np.asanyarray(test[['COLLISIONTYPE','PEDCOUNT','PEDCYLCOUNT',\n",
    "                       'CROSSWALKKEY', 'ADDRTYPE', 'SDOT_COLCODE', 'ST_COLCODE']])\n",
    "y = np.asanyarray(test[['SEVERITYCODE']])\n",
    "y_hat= regr.predict(test[['COLLISIONTYPE','PEDCOUNT','PEDCYLCOUNT',\n",
    "                         'CROSSWALKKEY', 'ADDRTYPE', 'SDOT_COLCODE', 'ST_COLCODE']])\n",
    "print(\"Residual sum of squares: %.2f\"\n",
    "      % np.mean((y_hat - y) ** 2))\n",
    "\n",
    "R015=regr.score(x, y).round(4)\n",
    "R015"
   ]
  },
  {
   "cell_type": "code",
   "execution_count": 101,
   "metadata": {},
   "outputs": [
    {
     "name": "stdout",
     "output_type": "stream",
     "text": [
      "Coefficients:  [[ 2.72834405e-02  3.47893090e-01  4.60157621e-01 -8.74320533e-09\n",
      "   8.88728463e-02 -1.73530073e-03 -1.73530073e-03  3.97619403e-02]]\n",
      "Intercept:  [1.0438774]\n"
     ]
    }
   ],
   "source": [
    "#Keep only corr score over 0.13, remove'SEVERITYDESC'\n",
    "X1 = data[['COLLISIONTYPE','PEDCOUNT','PEDCYLCOUNT','SEVERITYCODE',\n",
    "          'CROSSWALKKEY', 'ADDRTYPE', 'SDOT_COLCODE', 'ST_COLCODE',\n",
    "          'PERSONCOUNT']]\n",
    "msk = np.random.rand(len(data)) < 0.8\n",
    "train = X1[msk]\n",
    "test = X1[~msk]\n",
    "\n",
    "regr = linear_model.LinearRegression()\n",
    "x1 = np.asanyarray(train[['COLLISIONTYPE','PEDCOUNT','PEDCYLCOUNT',\n",
    "                         'CROSSWALKKEY', 'ADDRTYPE', 'SDOT_COLCODE', 'ST_COLCODE',\n",
    "                         'PERSONCOUNT']])\n",
    "y1 = np.asanyarray(train[['SEVERITYCODE']])\n",
    "regr.fit (x1, y1)\n",
    "print ('Coefficients: ', regr.coef_)\n",
    "print ('Intercept: ',regr.intercept_)"
   ]
  },
  {
   "cell_type": "code",
   "execution_count": 102,
   "metadata": {},
   "outputs": [
    {
     "name": "stdout",
     "output_type": "stream",
     "text": [
      "Residual sum of squares: 0.17\n"
     ]
    },
    {
     "data": {
      "text/plain": [
       "0.1631"
      ]
     },
     "execution_count": 102,
     "metadata": {},
     "output_type": "execute_result"
    }
   ],
   "source": [
    "#Keep only corr score over 0.13, remove'SEVERITYDESC'\n",
    "x = np.asanyarray(test[['COLLISIONTYPE','PEDCOUNT','PEDCYLCOUNT',\n",
    "                       'CROSSWALKKEY', 'ADDRTYPE', 'SDOT_COLCODE', 'ST_COLCODE',\n",
    "                       'PERSONCOUNT']])\n",
    "y = np.asanyarray(test[['SEVERITYCODE']])\n",
    "y_hat= regr.predict(test[['COLLISIONTYPE','PEDCOUNT','PEDCYLCOUNT',\n",
    "                         'CROSSWALKKEY', 'ADDRTYPE', 'SDOT_COLCODE', 'ST_COLCODE',\n",
    "                         'PERSONCOUNT']])\n",
    "print(\"Residual sum of squares: %.2f\"\n",
    "      % np.mean((y_hat - y) ** 2))\n",
    "\n",
    "R013=regr.score(x, y).round(4)\n",
    "R013"
   ]
  },
  {
   "cell_type": "code",
   "execution_count": 103,
   "metadata": {},
   "outputs": [
    {
     "name": "stdout",
     "output_type": "stream",
     "text": [
      "Coefficients:  [[1.]]\n",
      "Intercept:  [1.77635684e-15]\n"
     ]
    }
   ],
   "source": [
    "#Keep only 'SEVERITYDESC'\n",
    "X1 = data[['SEVERITYDESC','SEVERITYCODE']]\n",
    "msk = np.random.rand(len(data)) < 0.8\n",
    "train = X1[msk]\n",
    "test = X1[~msk]\n",
    "\n",
    "regr = linear_model.LinearRegression()\n",
    "x1 = np.asanyarray(train[['SEVERITYDESC']])\n",
    "y1 = np.asanyarray(train[['SEVERITYCODE']])\n",
    "regr.fit (x1, y1)\n",
    "print ('Coefficients: ', regr.coef_)\n",
    "print ('Intercept: ',regr.intercept_)"
   ]
  },
  {
   "cell_type": "code",
   "execution_count": 104,
   "metadata": {},
   "outputs": [
    {
     "name": "stdout",
     "output_type": "stream",
     "text": [
      "Residual sum of squares: 0.00\n",
      "Variance score: 1.00\n"
     ]
    }
   ],
   "source": [
    "#Keep only 'SEVERITYDESC'\n",
    "x = np.asanyarray(test[['SEVERITYDESC']])\n",
    "y = np.asanyarray(test[['SEVERITYCODE']])\n",
    "y_hat= regr.predict(test[['SEVERITYDESC']])\n",
    "print(\"Residual sum of squares: %.2f\"\n",
    "      % np.mean((y_hat - y) ** 2))\n",
    "\n",
    "print('Variance score: %.2f' % regr.score(x, y))"
   ]
  },
  {
   "cell_type": "code",
   "execution_count": 105,
   "metadata": {},
   "outputs": [
    {
     "data": {
      "text/html": [
       "<div>\n",
       "<style scoped>\n",
       "    .dataframe tbody tr th:only-of-type {\n",
       "        vertical-align: middle;\n",
       "    }\n",
       "\n",
       "    .dataframe tbody tr th {\n",
       "        vertical-align: top;\n",
       "    }\n",
       "\n",
       "    .dataframe thead th {\n",
       "        text-align: right;\n",
       "    }\n",
       "</style>\n",
       "<table border=\"1\" class=\"dataframe\">\n",
       "  <thead>\n",
       "    <tr style=\"text-align: right;\">\n",
       "      <th></th>\n",
       "      <th>Features</th>\n",
       "      <th>Explained Variance</th>\n",
       "    </tr>\n",
       "  </thead>\n",
       "  <tbody>\n",
       "    <tr>\n",
       "      <th>0</th>\n",
       "      <td>All</td>\n",
       "      <td>1.0000</td>\n",
       "    </tr>\n",
       "    <tr>\n",
       "      <th>1</th>\n",
       "      <td>Corr over 0.2 w/o SEVERITYDESC</td>\n",
       "      <td>0.1228</td>\n",
       "    </tr>\n",
       "    <tr>\n",
       "      <th>2</th>\n",
       "      <td>Corr over 0.15 w/o SEVERITYDESC</td>\n",
       "      <td>0.1468</td>\n",
       "    </tr>\n",
       "    <tr>\n",
       "      <th>3</th>\n",
       "      <td>Corr over 0.13 w/o SEVERITYDESC</td>\n",
       "      <td>0.1631</td>\n",
       "    </tr>\n",
       "  </tbody>\n",
       "</table>\n",
       "</div>"
      ],
      "text/plain": [
       "                          Features  Explained Variance\n",
       "0                              All              1.0000\n",
       "1   Corr over 0.2 w/o SEVERITYDESC              0.1228\n",
       "2  Corr over 0.15 w/o SEVERITYDESC              0.1468\n",
       "3  Corr over 0.13 w/o SEVERITYDESC              0.1631"
      ]
     },
     "execution_count": 105,
     "metadata": {},
     "output_type": "execute_result"
    }
   ],
   "source": [
    "repo = {'Features': ['All', 'Corr over 0.2 w/o SEVERITYDESC', 'Corr over 0.15 w/o SEVERITYDESC', 'Corr over 0.13 w/o SEVERITYDESC'],\n",
    "        'Explained Variance': [R8, R021, R015, R013]}\n",
    "report=pd.DataFrame.from_dict(repo)\n",
    "report"
   ]
  },
  {
   "cell_type": "code",
   "execution_count": 110,
   "metadata": {},
   "outputs": [
    {
     "name": "stderr",
     "output_type": "stream",
     "text": [
      "/home/jupyterlab/conda/envs/python/lib/python3.6/site-packages/IPython/core/interactiveshell.py:3072: DtypeWarning: Columns (33) have mixed types.Specify dtype option on import or set low_memory=False.\n",
      "  interactivity=interactivity, compiler=compiler, result=result)\n"
     ]
    },
    {
     "data": {
      "text/plain": [
       "SEVERITYCODE     0\n",
       "ADDRTYPE         0\n",
       "SEVERITYDESC     0\n",
       "COLLISIONTYPE    0\n",
       "PERSONCOUNT      0\n",
       "PEDCOUNT         0\n",
       "PEDCYLCOUNT      0\n",
       "SDOT_COLCODE     0\n",
       "WEATHER          0\n",
       "ROADCOND         0\n",
       "ST_COLCODE       0\n",
       "SEGLANEKEY       0\n",
       "CROSSWALKKEY     0\n",
       "HITPARKEDCAR     0\n",
       "dtype: int64"
      ]
     },
     "execution_count": 110,
     "metadata": {},
     "output_type": "execute_result"
    }
   ],
   "source": [
    "path='https://s3.us.cloud-object-storage.appdomain.cloud/cf-courses-data/CognitiveClass/DP0701EN/version-2/Data-Collisions.csv'\n",
    "data=pd.read_csv(path)\n",
    "\n",
    "#Pre-processing\n",
    "#SEVERITYCODE.1 is repeated so drop the column\n",
    "data.drop(\"SEVERITYCODE.1\", axis=1, inplace=True)\n",
    "\n",
    "#Convert Categorical features to numerical value\n",
    "\n",
    "data['STATUS'].replace(to_replace=['Matched','Unmatched'], value=[1,0],inplace=True) #almost 100% matched\n",
    "data['ADDRTYPE'].replace(to_replace=['Block','Intersection', 'Alley'], value=[1, 2, 3],inplace=True)\n",
    "\n",
    "#Weather clear condition is nearly 60% for both severity codes. The options also include unknown and other which cannot be analyzed\n",
    "#Therefore, I normalize the data to good weather (clear - 1), nothing to do with weather (unknown & other - 0), bad weather (the rest -2)\n",
    "data['WEATHER'].replace(to_replace=['Clear', 'Raining', 'Overcast', 'Unknown', 'Fog/Smog/Smoke', 'Snowing', 'Other', 'Sleet/Hail/Freezing Rain', 'Blowing Sand/Dirt', 'Severe Crosswind', 'Partly Cloudy'], value=[1, 2, 2, 0, 2, 2, 0, 2, 2, 2, 2],inplace=True)\n",
    "data['HITPARKEDCAR'].replace(to_replace=['N', 'Y'], value=[0, 1], inplace=True)\n",
    "\n",
    "#drop X and Y column, for not specifying the meaning\n",
    "data.drop('X', axis=1, inplace=True)\n",
    "data.drop('Y', axis=1, inplace=True)\n",
    "\n",
    "#drop columns that have over half NaN values\n",
    "data.drop(['EXCEPTRSNCODE', 'EXCEPTRSNDESC', 'INTKEY', 'INATTENTIONIND', 'PEDROWNOTGRNT', 'SPEEDING'], axis=1, inplace=True)\n",
    "\n",
    "#report no. has nothing to do with severity so drop\n",
    "data.drop(['REPORTNO'], axis=1, inplace=True)\n",
    "\n",
    "data['SEVERITYDESC'].replace(to_replace=['Property Damage Only Collision', 'Injury Collision'], value=[1, 2], inplace=True)\n",
    "data['COLLISIONTYPE'].replace(to_replace=['Parked Car', 'Angles', 'Rear Ended', 'Other', 'Sideswipe', 'Left Turn', 'Right Turn', 'Head On', 'Pedestrian', 'Cycles'], value=[1, 2, 3, 4, 5, 6, 7, 8, 9, 10], inplace=True) \n",
    "\n",
    "#OBJECTID is only for each case so drop\n",
    "data.drop(['OBJECTID'], axis=1, inplace=True)\n",
    "\n",
    "# INCDATE,INCDTTM is only for each case so drop\n",
    "data.drop(['INCDATE', 'INCDTTM'], axis=1, inplace=True)\n",
    "\n",
    "data['JUNCTIONTYPE'].replace(to_replace=['At Intersection (intersection related)', 'Mid-Block (not related to intersection)','Mid-Block (but intersection related)','Driveway Junction', 'At Intersection (but not related to intersection)', 'Ramp Junction', 'Unknown'], value=[1, 2, 3, 4, 5, 6, 7], inplace=True)\n",
    "\n",
    "#Location has very little to do with severity so drop\n",
    "data.drop(['LOCATION'], axis=1, inplace=True)\n",
    "\n",
    "#SDOTCOLNUM has too many NAN to analyze so drop\n",
    "data.drop(['SDOTCOLNUM'], axis=1, inplace=True)\n",
    "\n",
    "data['ROADCOND'].replace(to_replace=['Dry','Wet', 'Unknown', 'Ice', 'Snow/Slush'\n",
    "                                    'Other', 'Standing Water', 'Sand/Mud/Dirt',\n",
    "                                    'Oil'], value=[1, 2, 3, 4, 5, 6, 7, 8],\n",
    "                        inplace=True)\n",
    "data['ROADCOND'] = pd.to_numeric(data.ROADCOND, errors='coerce')\n",
    "\n",
    "data['LIGHTCOND'].replace(to_replace=['Daylight', 'Dark - Street Lights On', 'Unknown',\n",
    "                                     'Dusk', 'Dawn', 'Dark - No Street Lights', \n",
    "                                     'Dark - Street Lights Off', 'Other', 'Dark - Unknown Lighting'],\n",
    "                         value=[1, 2, 3, 4, 5, 6, 7, 8, 9], inplace=True)\n",
    "\n",
    "data['ST_COLCODE'] = pd.to_numeric(data.ST_COLCODE, errors='coerce')\n",
    "data['SDOT_COLCODE'] = pd.to_numeric(data.ST_COLCODE, errors='coerce')\n",
    "\n",
    "#drop desc but keep code\n",
    "data.drop(['SDOT_COLDESC', 'ST_COLDESC'], axis=1, inplace=True)\n",
    "\n",
    "#cannot make sure the relationship with Y/N and 1/0 so drop\n",
    "data.drop(['UNDERINFL'], axis=1, inplace=True)\n",
    "\n",
    "#COLDETKEY only for each case so drop\n",
    "data.drop(['COLDETKEY'], axis=1, inplace=True)\n",
    "\n",
    "#INCKEY only for each case so drop\n",
    "data.drop(['INCKEY'], axis=1, inplace=True)\n",
    "\n",
    "#drop as correlations are too low to analyze\n",
    "data.drop(['STATUS', 'VEHCOUNT', 'JUNCTIONTYPE', 'LIGHTCOND'], axis=1, inplace=True)\n",
    "\n",
    "# replace 3% incomplete samples with mean of that feature\n",
    "mean=data['COLLISIONTYPE'].mean()\n",
    "data['COLLISIONTYPE'].replace(np.nan,mean, inplace=True)\n",
    "mean=data['ADDRTYPE'].mean()\n",
    "data['ADDRTYPE'].replace(np.nan,mean, inplace=True)\n",
    "mean=data['SDOT_COLCODE'].mean()\n",
    "data['SDOT_COLCODE'].replace(np.nan,mean, inplace=True)\n",
    "mean=data['WEATHER'].mean()\n",
    "data['WEATHER'].replace(np.nan,mean, inplace=True)\n",
    "mean=data['ROADCOND'].mean()\n",
    "data['ROADCOND'].replace(np.nan,mean, inplace=True)\n",
    "mean=data['ST_COLCODE'].mean()\n",
    "data['ST_COLCODE'].replace(np.nan,mean, inplace=True)\n",
    "data.isna().sum()"
   ]
  },
  {
   "cell_type": "code",
   "execution_count": 111,
   "metadata": {},
   "outputs": [
    {
     "data": {
      "text/html": [
       "<div>\n",
       "<style scoped>\n",
       "    .dataframe tbody tr th:only-of-type {\n",
       "        vertical-align: middle;\n",
       "    }\n",
       "\n",
       "    .dataframe tbody tr th {\n",
       "        vertical-align: top;\n",
       "    }\n",
       "\n",
       "    .dataframe thead th {\n",
       "        text-align: right;\n",
       "    }\n",
       "</style>\n",
       "<table border=\"1\" class=\"dataframe\">\n",
       "  <thead>\n",
       "    <tr style=\"text-align: right;\">\n",
       "      <th></th>\n",
       "      <th>ADDRTYPE</th>\n",
       "      <th>SEVERITYDESC</th>\n",
       "      <th>COLLISIONTYPE</th>\n",
       "      <th>PEDCOUNT</th>\n",
       "      <th>PEDCYLCOUNT</th>\n",
       "      <th>SDOT_COLCODE</th>\n",
       "      <th>ST_COLCODE</th>\n",
       "      <th>CROSSWALKKEY</th>\n",
       "      <th>SEVERITYCODE</th>\n",
       "    </tr>\n",
       "  </thead>\n",
       "  <tbody>\n",
       "    <tr>\n",
       "      <th>0</th>\n",
       "      <td>2.0</td>\n",
       "      <td>2</td>\n",
       "      <td>2.0</td>\n",
       "      <td>0</td>\n",
       "      <td>0</td>\n",
       "      <td>10.0</td>\n",
       "      <td>10.0</td>\n",
       "      <td>0</td>\n",
       "      <td>2</td>\n",
       "    </tr>\n",
       "    <tr>\n",
       "      <th>1</th>\n",
       "      <td>1.0</td>\n",
       "      <td>1</td>\n",
       "      <td>5.0</td>\n",
       "      <td>0</td>\n",
       "      <td>0</td>\n",
       "      <td>11.0</td>\n",
       "      <td>11.0</td>\n",
       "      <td>0</td>\n",
       "      <td>1</td>\n",
       "    </tr>\n",
       "    <tr>\n",
       "      <th>2</th>\n",
       "      <td>1.0</td>\n",
       "      <td>1</td>\n",
       "      <td>1.0</td>\n",
       "      <td>0</td>\n",
       "      <td>0</td>\n",
       "      <td>32.0</td>\n",
       "      <td>32.0</td>\n",
       "      <td>0</td>\n",
       "      <td>1</td>\n",
       "    </tr>\n",
       "    <tr>\n",
       "      <th>3</th>\n",
       "      <td>1.0</td>\n",
       "      <td>1</td>\n",
       "      <td>4.0</td>\n",
       "      <td>0</td>\n",
       "      <td>0</td>\n",
       "      <td>23.0</td>\n",
       "      <td>23.0</td>\n",
       "      <td>0</td>\n",
       "      <td>1</td>\n",
       "    </tr>\n",
       "    <tr>\n",
       "      <th>4</th>\n",
       "      <td>2.0</td>\n",
       "      <td>2</td>\n",
       "      <td>2.0</td>\n",
       "      <td>0</td>\n",
       "      <td>0</td>\n",
       "      <td>10.0</td>\n",
       "      <td>10.0</td>\n",
       "      <td>0</td>\n",
       "      <td>2</td>\n",
       "    </tr>\n",
       "  </tbody>\n",
       "</table>\n",
       "</div>"
      ],
      "text/plain": [
       "   ADDRTYPE  SEVERITYDESC  COLLISIONTYPE  PEDCOUNT  PEDCYLCOUNT  SDOT_COLCODE  \\\n",
       "0       2.0             2            2.0         0            0          10.0   \n",
       "1       1.0             1            5.0         0            0          11.0   \n",
       "2       1.0             1            1.0         0            0          32.0   \n",
       "3       1.0             1            4.0         0            0          23.0   \n",
       "4       2.0             2            2.0         0            0          10.0   \n",
       "\n",
       "   ST_COLCODE  CROSSWALKKEY  SEVERITYCODE  \n",
       "0        10.0             0             2  \n",
       "1        11.0             0             1  \n",
       "2        32.0             0             1  \n",
       "3        23.0             0             1  \n",
       "4        10.0             0             2  "
      ]
     },
     "execution_count": 111,
     "metadata": {},
     "output_type": "execute_result"
    }
   ],
   "source": [
    "#Build Polynomial Regression Model\n",
    "X1 = data[['ADDRTYPE','SEVERITYDESC','COLLISIONTYPE','PEDCOUNT','PEDCYLCOUNT','SDOT_COLCODE', 'ST_COLCODE', 'CROSSWALKKEY', 'SEVERITYCODE']]\n",
    "X1[0:5]\n"
   ]
  },
  {
   "cell_type": "code",
   "execution_count": 112,
   "metadata": {},
   "outputs": [
    {
     "name": "stdout",
     "output_type": "stream",
     "text": [
      "Coefficients:  [[-5.64949845e-07  6.85093881e-05  8.20925905e-07  5.34222036e-06\n",
      "   8.00212247e-07  1.20081475e-07 -1.52881520e-05 -1.52865647e-05\n",
      "  -1.54083409e-06  1.36368702e-06  2.08489366e-06  9.10753784e-06\n",
      "   1.24098827e-06  2.37381664e-07 -1.43042809e-05 -1.41880375e-05\n",
      "  -4.93939215e-07  2.46698746e-06  1.23340065e-05  1.49958530e-06\n",
      "   3.12952727e-07 -1.01451774e-05 -1.01761113e-05 -2.71107922e-07\n",
      "   5.92099103e-05  2.35020836e-05 -5.45483502e-06 -3.09829320e-05\n",
      "  -2.93476783e-05  1.23514048e-06  4.17050714e-05 -1.04906175e-05\n",
      "   1.39390832e-05  8.66193343e-07  1.84843020e-06  1.26799870e-07\n",
      "  -2.32804298e-07 -2.32804298e-07  1.26630574e-06 -2.07687957e-04\n",
      "  -2.07687957e-04  1.21652143e-06 -2.07687957e-04  1.21652143e-06\n",
      "  -1.05618989e-10  2.90272702e-06  4.51942287e-06  1.65917956e-05\n",
      "   2.06742726e-06  3.89238731e-07 -1.51672700e-05 -1.51672700e-05\n",
      "   1.56135777e-06  5.27620548e-06  2.04250778e-05  2.34445473e-06\n",
      "   4.36517349e-07 -4.73320849e-06 -4.73320849e-06 -9.59874225e-07\n",
      "   9.44089002e-05  1.09795768e-05  2.27770600e-06 -2.55352057e-05\n",
      "  -2.55352057e-05  3.30597033e-06  1.41960320e-06  9.45701580e-09\n",
      "   1.25711326e-06  1.25711326e-06  4.79167421e-07  2.20885401e-07\n",
      "   4.65074273e-07  4.65074273e-07  1.66036389e-07  4.31331894e-05\n",
      "   4.31331894e-05 -2.21247560e-08  4.31331894e-05 -2.21247619e-08\n",
      "  -5.78700518e-11  5.75740566e-06  2.64243776e-05  3.02085924e-06\n",
      "   5.30248499e-07  4.96433091e-08  4.96433091e-08  2.07651443e-06\n",
      "   1.24608677e-04  1.38682148e-05  2.76645775e-06 -1.64098618e-06\n",
      "  -1.64098618e-06 -2.98887950e-06  1.83674915e-06  1.34135255e-08\n",
      "   1.72592221e-06  1.72592221e-06 -1.25355943e-06  2.71253500e-07\n",
      "   1.09265197e-06  1.09265197e-06  1.26914933e-06  2.48151139e-04\n",
      "   2.48151139e-04 -3.64908238e-08  2.48151139e-04 -3.64908085e-08\n",
      "   4.78092935e-11  5.84375038e-04  6.48839945e-05  1.33627043e-05\n",
      "  -1.90878038e-04 -1.90878038e-04  1.18126785e-06  8.44943432e-06\n",
      "   6.67260879e-08  7.34497067e-06  7.34497067e-06 -1.29607150e-05\n",
      "   1.38077129e-06 -1.48430009e-08 -1.48430009e-08 -6.55735130e-06\n",
      "   1.16918546e-05  1.16918546e-05 -2.17736032e-07  1.16918546e-05\n",
      "  -2.17735960e-07 -8.96913784e-12  1.51978288e-06  6.67937812e-09\n",
      "   1.82079833e-06  1.82079833e-06  2.67153813e-06  6.67099444e-09\n",
      "   1.24694997e-07  1.24694997e-07 -2.00111864e-06  1.35749681e-05\n",
      "   1.35749681e-05  2.11441197e-07  1.35749681e-05  2.11441197e-07\n",
      "   1.94099831e-10  1.41756000e-07  7.52230646e-08  7.52230646e-08\n",
      "  -4.72337874e-07 -3.65639116e-05 -3.65639116e-05  4.35296559e-07\n",
      "  -3.65639116e-05  4.35296557e-07  6.49406871e-11 -1.95331894e-06\n",
      "  -1.95331894e-06 -4.03666793e-09 -1.95331894e-06 -4.03648307e-09\n",
      "   4.52962999e-10 -1.95331894e-06 -4.03692445e-09 -4.49640816e-10\n",
      "   1.53821183e-18]]\n",
      "Intercept:  [1.18366368]\n",
      "Mean absolute error: 0.32\n",
      "R2-score: -0.03\n"
     ]
    }
   ],
   "source": [
    "from sklearn import linear_model\n",
    "from sklearn.preprocessing import PolynomialFeatures\n",
    "from sklearn.metrics import r2_score\n",
    "msk = np.random.rand(len(data)) < 0.8\n",
    "train = X1[msk]\n",
    "test = X1[~msk]\n",
    "\n",
    "train_x = np.asanyarray(train[['ADDRTYPE','SEVERITYDESC','COLLISIONTYPE','PEDCOUNT','PEDCYLCOUNT','SDOT_COLCODE', 'ST_COLCODE', 'CROSSWALKKEY']])\n",
    "train_y = np.asanyarray(train[['SEVERITYCODE']])\n",
    "\n",
    "test_x = np.asanyarray(test[['ADDRTYPE','SEVERITYDESC','COLLISIONTYPE','PEDCOUNT','PEDCYLCOUNT','SDOT_COLCODE', 'ST_COLCODE', 'CROSSWALKKEY']])\n",
    "test_y = np.asanyarray(test[['SEVERITYCODE']])\n",
    "\n",
    "poly=PolynomialFeatures(degree=3)\n",
    "train_x_poly=poly.fit_transform(train_x)\n",
    "\n",
    "reg=linear_model.LinearRegression()\n",
    "reg.fit(train_x_poly,train_y)\n",
    "\n",
    "test_x_poly=poly.fit_transform(test_x)\n",
    "yhat=reg.predict(test_x_poly)\n",
    "\n",
    "print ('Coefficients: ', reg.coef_)\n",
    "print ('Intercept: ',reg.intercept_)\n",
    "print(\"Mean absolute error: %.2f\" % np.mean(np.absolute(yhat - test_y)))\n",
    "print(\"R2-score: %.2f\" % r2_score(yhat , test_y) )"
   ]
  },
  {
   "cell_type": "code",
   "execution_count": null,
   "metadata": {},
   "outputs": [],
   "source": []
  }
 ],
 "metadata": {
  "kernelspec": {
   "display_name": "Python",
   "language": "python",
   "name": "conda-env-python-py"
  },
  "language_info": {
   "codemirror_mode": {
    "name": "ipython",
    "version": 3
   },
   "file_extension": ".py",
   "mimetype": "text/x-python",
   "name": "python",
   "nbconvert_exporter": "python",
   "pygments_lexer": "ipython3",
   "version": "3.6.11"
  },
  "toc-showcode": false
 },
 "nbformat": 4,
 "nbformat_minor": 4
}
